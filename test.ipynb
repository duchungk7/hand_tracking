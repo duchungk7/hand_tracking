{
 "cells": [
  {
   "cell_type": "code",
   "execution_count": null,
   "metadata": {},
   "outputs": [],
   "source": [
    "import cv2\n",
    "import os\n",
    "import numpy as np\n",
    "import pandas as pd\n",
    "import matplotlib.pyplot as plt\n",
    "\n",
    "from keras.models import load_model\n",
    "\n",
    "FTEST = './data/test/test_labels.csv'\n",
    "\n",
    "TEST_IMAGE_PATH = './data/test/'\n",
    "\n",
    "model_path = \"output_model/Hand_Location_CNN_Model.h5\""
   ]
  },
  {
   "cell_type": "code",
   "execution_count": null,
   "metadata": {},
   "outputs": [],
   "source": [
    "IMG_H = 720\n",
    "IMG_W = 1280\n",
    "\n",
    "\n",
    "BREAK_POINT = 1"
   ]
  },
  {
   "cell_type": "code",
   "execution_count": null,
   "metadata": {},
   "outputs": [],
   "source": [
    "fname = FTEST\n",
    "df = pd.read_csv(os.path.expanduser(fname))"
   ]
  },
  {
   "cell_type": "code",
   "execution_count": null,
   "metadata": {},
   "outputs": [],
   "source": [
    "img_num = 0\n",
    "x_test = []\n",
    "\n",
    "for img_path in df['filename']:\n",
    "    #print(img_label_path)\n",
    "    img_num += 1\n",
    "    \n",
    "    img_path = TEST_IMAGE_PATH + img_path\n",
    "    # print(\"     \", picture)\n",
    "    image = cv2.imread(img_path, 0)  # open .jpg data\n",
    "    # print(\"     \", np.array(image).shape)\n",
    "    image = np.array(image).astype(np.float32)\n",
    "    image = image / 255  # normalize in 0 ~ 1\n",
    "    x_test.append(image)\n",
    "    \n",
    "    # check BREAK_POINT\n",
    "    if img_num == BREAK_POINT:\n",
    "        break\n",
    "    "
   ]
  },
  {
   "cell_type": "code",
   "execution_count": null,
   "metadata": {},
   "outputs": [],
   "source": [
    "x_test = np.array(x_test)"
   ]
  },
  {
   "cell_type": "code",
   "execution_count": null,
   "metadata": {},
   "outputs": [],
   "source": [
    "x_test = x_test.reshape(1, IMG_H, IMG_W, 1)"
   ]
  },
  {
   "cell_type": "code",
   "execution_count": null,
   "metadata": {},
   "outputs": [],
   "source": [
    "x_test.shape"
   ]
  },
  {
   "cell_type": "code",
   "execution_count": null,
   "metadata": {},
   "outputs": [],
   "source": [
    "model = load_model(model_path)"
   ]
  },
  {
   "cell_type": "code",
   "execution_count": null,
   "metadata": {},
   "outputs": [],
   "source": [
    "result = model.predict(x_test)"
   ]
  },
  {
   "cell_type": "code",
   "execution_count": null,
   "metadata": {},
   "outputs": [],
   "source": [
    "result"
   ]
  },
  {
   "cell_type": "code",
   "execution_count": null,
   "metadata": {},
   "outputs": [],
   "source": [
    "x_min = int(result[0][0] * IMG_W)\n",
    "x_min"
   ]
  },
  {
   "cell_type": "code",
   "execution_count": null,
   "metadata": {},
   "outputs": [],
   "source": [
    "y_min = int(result[0][1] * IMG_H)\n",
    "y_min"
   ]
  },
  {
   "cell_type": "code",
   "execution_count": null,
   "metadata": {},
   "outputs": [],
   "source": [
    "x_max = int(result[0][2] * IMG_W)\n",
    "x_max"
   ]
  },
  {
   "cell_type": "code",
   "execution_count": null,
   "metadata": {},
   "outputs": [],
   "source": [
    "y_max = int(result[0][3] * IMG_H)\n",
    "y_max"
   ]
  },
  {
   "cell_type": "code",
   "execution_count": null,
   "metadata": {},
   "outputs": [],
   "source": [
    "for img_path in df['filename']:\n",
    "    #print(img_label_path)\n",
    "    img_num += 1\n",
    "    \n",
    "    img_path = TEST_IMAGE_PATH + img_path\n",
    "    # print(\"     \", picture)\n",
    "    image = cv2.imread(img_path, 1)  # open .jpg data\n",
    "   \n",
    "    \n",
    "    cv2.rectangle(image, (x_min, y_min), (x_max, y_max), (0, 255, 255), 2, cv2.LINE_AA)\n",
    "\n",
    "    cv2.imshow('image', image)\n",
    "\n",
    "    cv2.waitKey(0)\n",
    "    # check BREAK_POINT\n",
    "    if img_num == BREAK_POINT:\n",
    "        break"
   ]
  },
  {
   "cell_type": "code",
   "execution_count": null,
   "metadata": {},
   "outputs": [],
   "source": []
  },
  {
   "cell_type": "code",
   "execution_count": null,
   "metadata": {},
   "outputs": [],
   "source": []
  },
  {
   "cell_type": "markdown",
   "metadata": {},
   "source": [
    "# Test with Real-time Camera"
   ]
  },
  {
   "cell_type": "code",
   "execution_count": null,
   "metadata": {},
   "outputs": [],
   "source": [
    "# camera (input) configuration\n",
    "frame_in_w = 1280\n",
    "frame_in_h = 720\n",
    "videoIn = cv2.VideoCapture(0)\n",
    "videoIn.set(cv2.CAP_PROP_FRAME_WIDTH, frame_in_w)\n",
    "videoIn.set(cv2.CAP_PROP_FRAME_HEIGHT, frame_in_h)\n",
    "print(\"capture device is open: \" + str(videoIn.isOpened()))"
   ]
  },
  {
   "cell_type": "code",
   "execution_count": null,
   "metadata": {},
   "outputs": [],
   "source": [
    "while True:\n",
    "    # keyboard input value\n",
    "    key = cv2.waitKey(1) & 0xFF\n",
    "\n",
    "    # read video from camera\n",
    "    ret, outframe = videoIn.read()\n",
    "    if (ret):\n",
    "\n",
    "        gray = cv2.cvtColor(outframe, cv2.COLOR_BGR2GRAY)\n",
    "        image = np.array(gray).astype(np.float32)\n",
    "        image = image / 255  # normalize in 0 ~ 1\n",
    "        \n",
    "        x_test = np.array(x_test)\n",
    "        x_test = x_test.reshape(1, 1, IMG_H, IMG_W,)\n",
    "        \n",
    "        result = model.predict(x_test)\n",
    "        \n",
    "        \n",
    "        x_min = int(result[0][0] * IMG_W)\n",
    "        y_min = int(result[0][1] * IMG_H)\n",
    "        x_max = int(result[0][2] * IMG_W)\n",
    "        y_max = int(result[0][3] * IMG_H)\n",
    "        \n",
    "        cv2.rectangle(outframe, (x_min, y_min), (x_max, y_max), (0, 255, 255), 2, cv2.LINE_AA)\n",
    "\n",
    "        cv2.imshow('outframe', outframe)\n",
    "\n",
    "    else:\n",
    "        raise RuntimeError(\"Error while reading from camera.\")\n",
    "\n",
    "    if key == ord('q'):     # press 'q' to leave while\n",
    "        break\n",
    "\n",
    "print('Video Capture end, release camera.')\n",
    "videoIn.release()\n",
    "cv2.destroyAllWindows()"
   ]
  },
  {
   "cell_type": "code",
   "execution_count": null,
   "metadata": {},
   "outputs": [],
   "source": []
  },
  {
   "cell_type": "code",
   "execution_count": null,
   "metadata": {},
   "outputs": [],
   "source": []
  },
  {
   "cell_type": "code",
   "execution_count": null,
   "metadata": {},
   "outputs": [],
   "source": []
  },
  {
   "cell_type": "code",
   "execution_count": null,
   "metadata": {},
   "outputs": [],
   "source": []
  },
  {
   "cell_type": "code",
   "execution_count": null,
   "metadata": {},
   "outputs": [],
   "source": []
  }
 ],
 "metadata": {
  "kernelspec": {
   "display_name": "Python 3",
   "language": "python",
   "name": "python3"
  },
  "language_info": {
   "codemirror_mode": {
    "name": "ipython",
    "version": 3
   },
   "file_extension": ".py",
   "mimetype": "text/x-python",
   "name": "python",
   "nbconvert_exporter": "python",
   "pygments_lexer": "ipython3",
   "version": "3.7.4"
  }
 },
 "nbformat": 4,
 "nbformat_minor": 2
}
