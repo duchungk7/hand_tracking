{
 "cells": [
  {
   "cell_type": "code",
   "execution_count": null,
   "metadata": {},
   "outputs": [],
   "source": [
    "import cv2\n",
    "import os\n",
    "import numpy as np\n",
    "import pandas as pd\n",
    "from sklearn.utils import shuffle\n",
    "from sklearn.model_selection import train_test_split\n",
    "import matplotlib.pyplot as plt\n",
    "\n",
    "from keras.models import Sequential\n",
    "from keras.layers import Dense, Conv2D, Activation, Dropout, MaxPooling2D, Flatten, GlobalMaxPooling2D, BatchNormalization\n",
    "from keras.optimizers import SGD, Adam\n",
    "from keras.callbacks import ModelCheckpoint, EarlyStopping\n",
    "from keras.preprocessing.image import ImageDataGenerator\n",
    "\n",
    "FTRAIN = './data/train/train_labels.csv'\n",
    "FTEST = './data/test/test_labels.csv'\n",
    "\n",
    "TRAIN_IMAGE_PATH = './data/train/'\n",
    "TEST_IMAGE_PATH = './data/test/'"
   ]
  },
  {
   "cell_type": "code",
   "execution_count": null,
   "metadata": {},
   "outputs": [],
   "source": [
    "import tensorflow as tf\n",
    "# 只使用 30% 的 GPU 記憶體\n",
    "gpu_options = tf.GPUOptions(per_process_gpu_memory_fraction=0.75)\n",
    "sess = tf.Session(config=tf.ConfigProto(gpu_options=gpu_options))\n",
    "\n",
    "# 設定 Keras 使用的 TensorFlow Session\n",
    "tf.keras.backend.set_session(sess)"
   ]
  },
  {
   "cell_type": "code",
   "execution_count": null,
   "metadata": {},
   "outputs": [],
   "source": [
    "IMG_H = 720\n",
    "IMG_W = 1280\n",
    "\n",
    "\n",
    "BREAK_POINT = 5000\n",
    "\n",
    "BATCH_SIZE = 32\n",
    "EPOCHS = 100\n",
    "VAL_SPLIT = 0.15"
   ]
  },
  {
   "cell_type": "code",
   "execution_count": null,
   "metadata": {},
   "outputs": [],
   "source": [
    "fname = FTRAIN\n",
    "df = pd.read_csv(os.path.expanduser(fname))"
   ]
  },
  {
   "cell_type": "code",
   "execution_count": null,
   "metadata": {},
   "outputs": [],
   "source": [
    "df"
   ]
  },
  {
   "cell_type": "code",
   "execution_count": null,
   "metadata": {},
   "outputs": [],
   "source": [
    "df = df.dropna()\n",
    "print (df.count())"
   ]
  },
  {
   "cell_type": "code",
   "execution_count": null,
   "metadata": {},
   "outputs": [],
   "source": [
    "df['filename']"
   ]
  },
  {
   "cell_type": "code",
   "execution_count": null,
   "metadata": {},
   "outputs": [],
   "source": [
    "# 刪除 size 列\n",
    "df.drop(['width', 'height', 'class'], axis=1)"
   ]
  },
  {
   "cell_type": "markdown",
   "metadata": {},
   "source": [
    "# 處理 影像 資料"
   ]
  },
  {
   "cell_type": "code",
   "execution_count": null,
   "metadata": {},
   "outputs": [],
   "source": [
    "img_num = 0\n",
    "x_train = []\n",
    "\n",
    "for img_label_path in df['filename']:\n",
    "    #print(img_label_path)\n",
    "    img_num += 1\n",
    "    \n",
    "    img_path = TRAIN_IMAGE_PATH + img_label_path\n",
    "    # print(\"     \", picture)\n",
    "    image = cv2.imread(img_path, 0)  # open .jpg data\n",
    "    # print(\"     \", np.array(image).shape)\n",
    "    image = np.array(image).astype(np.float32)\n",
    "    image = image / 255  # normalize in 0 ~ 1\n",
    "    x_train.append(image)\n",
    "    \n",
    "    # check BREAK_POINT\n",
    "    if img_num == BREAK_POINT:\n",
    "        break\n",
    "    "
   ]
  },
  {
   "cell_type": "code",
   "execution_count": null,
   "metadata": {},
   "outputs": [],
   "source": [
    "print(\"img_num: \" + str(img_num))"
   ]
  },
  {
   "cell_type": "code",
   "execution_count": null,
   "metadata": {},
   "outputs": [],
   "source": [
    "x_train = np.array(x_train)"
   ]
  },
  {
   "cell_type": "code",
   "execution_count": null,
   "metadata": {},
   "outputs": [],
   "source": [
    "x_train.shape"
   ]
  },
  {
   "cell_type": "code",
   "execution_count": null,
   "metadata": {},
   "outputs": [],
   "source": [
    "x_train = x_train.reshape(x_train.shape[0], IMG_H, IMG_W, 1)"
   ]
  },
  {
   "cell_type": "code",
   "execution_count": null,
   "metadata": {},
   "outputs": [],
   "source": [
    "x_train.shape"
   ]
  },
  {
   "cell_type": "markdown",
   "metadata": {},
   "source": [
    "# 處理 Labels 資料"
   ]
  },
  {
   "cell_type": "code",
   "execution_count": null,
   "metadata": {},
   "outputs": [],
   "source": [
    "df"
   ]
  },
  {
   "cell_type": "code",
   "execution_count": null,
   "metadata": {},
   "outputs": [],
   "source": [
    "df['xmin'] = df['xmin']/IMG_W\n",
    "df['ymin'] = df['ymin']/IMG_H\n",
    "\n",
    "df['xmax'] = df['xmax']/IMG_W\n",
    "df['ymax'] = df['ymax']/IMG_H"
   ]
  },
  {
   "cell_type": "code",
   "execution_count": null,
   "metadata": {},
   "outputs": [],
   "source": [
    "y_train = []\n",
    "for i in range(BREAK_POINT):\n",
    "    y_train = np.append(y_train, df['xmin'].values[i], axis = None)\n",
    "    y_train = np.append(y_train, df['ymin'].values[i], axis = None)\n",
    "    y_train = np.append(y_train, df['xmax'].values[i], axis = None)\n",
    "    y_train = np.append(y_train, df['ymax'].values[i], axis = None)\n",
    "    "
   ]
  },
  {
   "cell_type": "code",
   "execution_count": null,
   "metadata": {},
   "outputs": [],
   "source": [
    "y_train"
   ]
  },
  {
   "cell_type": "code",
   "execution_count": null,
   "metadata": {},
   "outputs": [],
   "source": [
    "y_train.shape"
   ]
  },
  {
   "cell_type": "code",
   "execution_count": null,
   "metadata": {},
   "outputs": [],
   "source": [
    "y_train = y_train.reshape(BREAK_POINT, 4)"
   ]
  },
  {
   "cell_type": "code",
   "execution_count": null,
   "metadata": {},
   "outputs": [],
   "source": [
    "df"
   ]
  },
  {
   "cell_type": "code",
   "execution_count": null,
   "metadata": {},
   "outputs": [],
   "source": [
    "y_train[0][:]"
   ]
  },
  {
   "cell_type": "code",
   "execution_count": null,
   "metadata": {},
   "outputs": [],
   "source": [
    "y_train.shape"
   ]
  },
  {
   "cell_type": "markdown",
   "metadata": {},
   "source": [
    "# 建立 CNN 模型 (不使用 softmax)"
   ]
  },
  {
   "cell_type": "code",
   "execution_count": null,
   "metadata": {},
   "outputs": [],
   "source": [
    "import tensorflow as tf\n",
    "from keras.models import Model\n",
    "from keras.layers import Input, Conv2D, MaxPooling2D, Flatten, Dropout, Dense, Activation\n",
    "\n",
    "from keras import backend as k\n",
    "from keras.callbacks import ModelCheckpoint, ReduceLROnPlateau\n",
    "def build_model():\n",
    "\n",
    "    input1 = Input(shape=(IMG_H, IMG_W, 1))   # input, 720 * 1280\n",
    "\n",
    "    out = Conv2D(filters=8, kernel_size=(3, 3), \n",
    "                 input_shape=(1, IMG_H, IMG_W), activation='relu', name='C1')(input1)   # C1, 6 @ 718 * 1278\n",
    "    out = MaxPooling2D(pool_size=(2, 2), name='S2')(out)                                # S2, 6 @ 358 * 638\n",
    "    \n",
    "    out = Conv2D(filters=32, kernel_size=(3, 3), activation='relu', name='C3')(out)     # C3, 12 @ 356 * 636\n",
    "    out = MaxPooling2D(pool_size=(2, 2), name='S4')(out)                                # S4, 12 @ 178 * 318\n",
    "\n",
    "    out = Conv2D(filters=64, kernel_size=(3,3), activation='relu', name='C5')(out)      # C5, 24 @ 176 * 316\n",
    "    out = MaxPooling2D(pool_size=(2, 2), name='S6')(out)                                # S6, 24 @ 88 * 158\n",
    "    \n",
    "    out = Conv2D(filters=128, kernel_size=(3,3), activation='relu', name='C7')(out)      # C7, 32 @ 86 * 156\n",
    "    out = MaxPooling2D(pool_size=(2, 2), name='S8')(out)                                # S8, 32 @ 43 * 78\n",
    "    \n",
    "    out = Flatten(name='flatten')(out)      # C5-2, (1 * 120(120 * 1 * 1))\n",
    "\n",
    "    #out = Dense(units=512, activation='relu', name='F9_1')(out)    # F6, 1 * out_dim\n",
    "    #out = Dense(units=256, activation='relu', name='F9_2')(out)    # F6, 1 * out_dim\n",
    "    out = Dense(units=128, activation='relu', name='F9_1')(out)    # F6, 1 * out_dim\n",
    "    out = Dense(units=32, activation='relu', name='F9_2')(out)    # F6, 1 * out_dim\n",
    "    out = Dense(units=4, activation='linear', name='F9_3')(out)    # F6, 1 * out_dim\n",
    "    #out = Activation('softmax')(out)\n",
    "\n",
    "    model = Model(inputs=input1, outputs=out)\n",
    "\n",
    "    #model.compile(loss='categorical_crossentropy',\n",
    "    #              optimizer='adam',\n",
    "    #              metrics=['accuracy'])\n",
    "\n",
    "    model.compile(loss='mean_squared_error',\n",
    "                  optimizer='adam',\n",
    "                  metrics=['accuracy'])\n",
    "    model.summary()\n",
    "\n",
    "    return model\n"
   ]
  },
  {
   "cell_type": "code",
   "execution_count": null,
   "metadata": {},
   "outputs": [],
   "source": [
    "model = build_model()"
   ]
  },
  {
   "cell_type": "code",
   "execution_count": null,
   "metadata": {},
   "outputs": [],
   "source": [
    "output_dir = \"output_model\"\n",
    "model_name = \"Hand_Location_CNN_Model0604\"\n",
    "model_path = output_dir + '/' + model_name\n",
    "checkpoint = ModelCheckpoint(model_path + \".h5\", monitor='val_loss', verbose=0, mode='min',\n",
    "                             save_best_only=True, save_weights_only=False, period=1)\n",
    "\n",
    "reduce_lr = ReduceLROnPlateau(patience=5, factor=0.5, min_lr=0.01, verbose=0)\n",
    "\n",
    "train_history = model.fit(x_train, y_train, batch_size=BATCH_SIZE, epochs=EPOCHS, validation_split=VAL_SPLIT, verbose=2,\n",
    "                          callbacks=[checkpoint, reduce_lr])"
   ]
  },
  {
   "cell_type": "code",
   "execution_count": null,
   "metadata": {},
   "outputs": [],
   "source": []
  },
  {
   "cell_type": "code",
   "execution_count": null,
   "metadata": {},
   "outputs": [],
   "source": []
  },
  {
   "cell_type": "code",
   "execution_count": null,
   "metadata": {},
   "outputs": [],
   "source": []
  },
  {
   "cell_type": "code",
   "execution_count": null,
   "metadata": {},
   "outputs": [],
   "source": []
  },
  {
   "cell_type": "code",
   "execution_count": null,
   "metadata": {},
   "outputs": [],
   "source": []
  },
  {
   "cell_type": "code",
   "execution_count": null,
   "metadata": {},
   "outputs": [],
   "source": []
  },
  {
   "cell_type": "code",
   "execution_count": null,
   "metadata": {},
   "outputs": [],
   "source": []
  },
  {
   "cell_type": "code",
   "execution_count": null,
   "metadata": {},
   "outputs": [],
   "source": []
  },
  {
   "cell_type": "code",
   "execution_count": null,
   "metadata": {},
   "outputs": [],
   "source": []
  },
  {
   "cell_type": "code",
   "execution_count": null,
   "metadata": {},
   "outputs": [],
   "source": []
  },
  {
   "cell_type": "code",
   "execution_count": null,
   "metadata": {},
   "outputs": [],
   "source": []
  },
  {
   "cell_type": "code",
   "execution_count": null,
   "metadata": {},
   "outputs": [],
   "source": []
  },
  {
   "cell_type": "code",
   "execution_count": null,
   "metadata": {},
   "outputs": [],
   "source": []
  },
  {
   "cell_type": "code",
   "execution_count": null,
   "metadata": {},
   "outputs": [],
   "source": []
  },
  {
   "cell_type": "code",
   "execution_count": null,
   "metadata": {},
   "outputs": [],
   "source": []
  },
  {
   "cell_type": "code",
   "execution_count": null,
   "metadata": {},
   "outputs": [],
   "source": []
  },
  {
   "cell_type": "code",
   "execution_count": null,
   "metadata": {},
   "outputs": [],
   "source": []
  },
  {
   "cell_type": "code",
   "execution_count": null,
   "metadata": {},
   "outputs": [],
   "source": []
  },
  {
   "cell_type": "code",
   "execution_count": null,
   "metadata": {},
   "outputs": [],
   "source": []
  },
  {
   "cell_type": "code",
   "execution_count": null,
   "metadata": {},
   "outputs": [],
   "source": []
  },
  {
   "cell_type": "code",
   "execution_count": null,
   "metadata": {},
   "outputs": [],
   "source": []
  },
  {
   "cell_type": "code",
   "execution_count": null,
   "metadata": {},
   "outputs": [],
   "source": []
  }
 ],
 "metadata": {
  "kernelspec": {
   "display_name": "Python 3",
   "language": "python",
   "name": "python3"
  },
  "language_info": {
   "codemirror_mode": {
    "name": "ipython",
    "version": 3
   },
   "file_extension": ".py",
   "mimetype": "text/x-python",
   "name": "python",
   "nbconvert_exporter": "python",
   "pygments_lexer": "ipython3",
   "version": "3.7.4"
  }
 },
 "nbformat": 4,
 "nbformat_minor": 2
}
